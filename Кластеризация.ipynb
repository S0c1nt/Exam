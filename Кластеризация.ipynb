{
  "nbformat": 4,
  "nbformat_minor": 0,
  "metadata": {
    "colab": {
      "provenance": [],
      "authorship_tag": "ABX9TyNFbHYNIjY3vfpvCJAImrpa",
      "include_colab_link": true
    },
    "kernelspec": {
      "name": "python3",
      "display_name": "Python 3"
    },
    "language_info": {
      "name": "python"
    }
  },
  "cells": [
    {
      "cell_type": "markdown",
      "metadata": {
        "id": "view-in-github",
        "colab_type": "text"
      },
      "source": [
        "<a href=\"https://colab.research.google.com/github/S0c1nt/Exam/blob/main/%D0%9A%D0%BB%D0%B0%D1%81%D1%82%D0%B5%D1%80%D0%B8%D0%B7%D0%B0%D1%86%D0%B8%D1%8F.ipynb\" target=\"_parent\"><img src=\"https://colab.research.google.com/assets/colab-badge.svg\" alt=\"Open In Colab\"/></a>"
      ]
    },
    {
      "cell_type": "markdown",
      "source": [
        "Подготовка данных Отдельно возьму атрибуты, которые буду визуализировать"
      ],
      "metadata": {
        "id": "5Jf0lup6zf4J"
      }
    },
    {
      "cell_type": "code",
      "source": [
        "#Помещу их в переменную X\n",
        "X = df[[\"AGE\", \"GENDER\", \"EDUCATION_LEVEL\"]]"
      ],
      "metadata": {
        "id": "QwOLDGchzhP0"
      },
      "execution_count": null,
      "outputs": []
    },
    {
      "cell_type": "markdown",
      "source": [
        "Я выбрал эти атрибуты, так как в зависимости от региона и категории товара (продовца) стоимость покупок будет разной и я считаю, что этих атрибутов будет достаточно что бы модель не имела проблем с переобучением и недообучением"
      ],
      "metadata": {
        "id": "YTmH1PFYzmnh"
      }
    },
    {
      "cell_type": "markdown",
      "source": [
        "MinMaxScaler\n",
        "Преобразование характеристик путем масштабирования каждой характеристики в заданном диапазоне. Этот оценщик масштабирует и переводит каждый признак в отдельности таким образом,чтобы он находился в заданном диапазоне на обучающем множестве,например,между нулем и единицей."
      ],
      "metadata": {
        "id": "dzVkuNDuztNT"
      }
    },
    {
      "cell_type": "code",
      "source": [
        "#обьявляю MinMaxScaler\n",
        "scaler = MinMaxScaler()\n",
        "#преобразую данные\n",
        "X = scaler.fit_transform(X)"
      ],
      "metadata": {
        "id": "BMBhPEShzqbC"
      },
      "execution_count": null,
      "outputs": []
    },
    {
      "cell_type": "code",
      "source": [
        "X"
      ],
      "metadata": {
        "id": "et6zXl8cz8QH"
      },
      "execution_count": null,
      "outputs": []
    },
    {
      "cell_type": "markdown",
      "source": [
        "PCA\n",
        "Метод главных компонент — один из основных способов уменьшить размерность данных, потеряв наименьшее количество информации."
      ],
      "metadata": {
        "id": "TpwXRmDxz3QK"
      }
    },
    {
      "cell_type": "code",
      "source": [
        "#Обьявляю метод главных компонент\n",
        "pca = PCA(n_components=2)\n",
        "#Применяю его на данных\n",
        "X = pca.fit_transform(X)"
      ],
      "metadata": {
        "id": "2Oqw0UuSzxkx"
      },
      "execution_count": null,
      "outputs": []
    },
    {
      "cell_type": "code",
      "source": [
        "X"
      ],
      "metadata": {
        "id": "1jMSyFdoz-QR"
      },
      "execution_count": null,
      "outputs": []
    },
    {
      "cell_type": "markdown",
      "source": [
        "Функция визуализации\n",
        "Отдельно вынесу функцию для визуализации"
      ],
      "metadata": {
        "id": "MOkrLY3W0CIx"
      }
    },
    {
      "cell_type": "code",
      "source": [
        "#Функция для визуализации распределения \n",
        "def viz(prediction):\n",
        "    #Размер фигуры\n",
        "    plt.figure(figsize=(5, 5))\n",
        "    #plt.subplot(224)\n",
        "    #Выводить изображение буду при помощи scatter\n",
        "    plt.scatter(X[:, 0], X[:, 1], c=prediction)\n",
        "    plt.title(\"Unevenly Sized Blobs\")\n",
        "    #Вывод изображения\n",
        "    plt.show()"
      ],
      "metadata": {
        "id": "_g42cwuk0CzD"
      },
      "execution_count": null,
      "outputs": []
    },
    {
      "cell_type": "markdown",
      "source": [
        "Выбор алгоритмов (KMeans, MiniBatchKMeans, GaussianMixtures)\n",
        "Я решил взять алгоритмы KMeans, MiniBatchKMeans и GaussianMixtures, так как они идеально подходят для такого набора данных, они сочетают в себе скорость работы, а так же качество кластеризации"
      ],
      "metadata": {
        "id": "lMuPJD720JHq"
      }
    },
    {
      "cell_type": "markdown",
      "source": [
        "KMeans"
      ],
      "metadata": {
        "id": "jPCnsBO80OeA"
      }
    },
    {
      "cell_type": "code",
      "source": [
        "#Настройка параметров\n",
        "kmeans = KMeans(n_clusters=4, random_state=0).fit(X)\n",
        "#Предсказание\n",
        "kmpreds = kmeans.predict(X)\n",
        "#Заношу кластеризированные метки в набор данных\n",
        "df[\"KMCLUSTS\"] = kmpreds\n",
        "\n",
        "#Применяю функцию описаную выше\n",
        "viz(df[\"KMCLUSTS\"])"
      ],
      "metadata": {
        "id": "96I_THoj0GJs"
      },
      "execution_count": null,
      "outputs": []
    },
    {
      "cell_type": "markdown",
      "source": [
        "MiniBatchKMeans"
      ],
      "metadata": {
        "id": "UcDU5rzJ0Wtd"
      }
    },
    {
      "cell_type": "code",
      "source": [
        "#Настройка параметров\n",
        "kbmeans = MiniBatchKMeans(n_clusters=4, random_state=0, batch_size=4096)\n",
        "#Заношу кластеризированные метки в набор данных\n",
        "df[\"KBCLUSTS\"] = kbmeans.fit_predict(X)\n",
        "\n",
        "viz(df[\"KBCLUSTS\"])"
      ],
      "metadata": {
        "id": "6fmIFVw10XSO"
      },
      "execution_count": null,
      "outputs": []
    },
    {
      "cell_type": "markdown",
      "source": [
        "GaussianMixture"
      ],
      "metadata": {
        "id": "fq2u2X1e0crI"
      }
    },
    {
      "cell_type": "code",
      "source": [
        "#Настройка параметров\n",
        "gm = GaussianMixture(n_components=4, random_state=0).fit_predict(X)\n",
        "#Заношу кластеризированные метки в набор данных\n",
        "df[\"GMCLUSTS\"] = gm\n",
        "\n",
        "viz(df[\"GMCLUSTS\"])"
      ],
      "metadata": {
        "id": "sRfjBJ0I0dO1"
      },
      "execution_count": null,
      "outputs": []
    },
    {
      "cell_type": "markdown",
      "source": [
        "Результаты метрик\n",
        "Calinski-Harabasz index Представляет собой отношение суммы дисперсии между кластерами и межкластерной дисперсии для всех кластеров. Чем выше значение, тем лучше произведена кластеризация.\n",
        "\n",
        "Davies-Bouldin index Показывает среднее «сходство» кластеров: расстояние между ними сравнивается с их размером. Чем меньше значение, тем лучше произведено разделение на кластеры."
      ],
      "metadata": {
        "id": "aFQkwZ6z0i1l"
      }
    },
    {
      "cell_type": "markdown",
      "source": [
        "\n",
        "Kmeans"
      ],
      "metadata": {
        "id": "BM1dXCG00lhY"
      }
    },
    {
      "cell_type": "code",
      "source": [
        "#Использую метрику calinski_harabasz_score\n",
        "print(sklearn.metrics.calinski_harabasz_score(X, df[\"KMCLUSTS\"]))\n",
        "#Использую метрику davies_bouldin_score\n",
        "print(sklearn.metrics.davies_bouldin_score(X, df[\"KMCLUSTS\"]))"
      ],
      "metadata": {
        "id": "T7FOTMJR0mA7"
      },
      "execution_count": null,
      "outputs": []
    },
    {
      "cell_type": "markdown",
      "source": [
        "MiniBatchKmeans"
      ],
      "metadata": {
        "id": "km97_NKF0tgu"
      }
    },
    {
      "cell_type": "code",
      "source": [
        "#Использую метрику calinski_harabasz_score\n",
        "print(sklearn.metrics.calinski_harabasz_score(X, df[\"KBCLUSTS\"]))\n",
        "#Использую метрику davies_bouldin_score\n",
        "print(sklearn.metrics.davies_bouldin_score(X, df[\"KBCLUSTS\"]))"
      ],
      "metadata": {
        "id": "COQPIaTM0uKA"
      },
      "execution_count": null,
      "outputs": []
    },
    {
      "cell_type": "markdown",
      "source": [
        "GussianMixture"
      ],
      "metadata": {
        "id": "DQ2EoKb10yNZ"
      }
    },
    {
      "cell_type": "code",
      "source": [
        "#Использую метрику calinski_harabasz_score\n",
        "print(sklearn.metrics.calinski_harabasz_score(X, df[\"GMCLUSTS\"]))\n",
        "#Использую метрику davies_bouldin_score\n",
        "print(sklearn.metrics.davies_bouldin_score(X, df[\"GMCLUSTS\"]))"
      ],
      "metadata": {
        "id": "utMoKfes00Wi"
      },
      "execution_count": null,
      "outputs": []
    },
    {
      "cell_type": "markdown",
      "source": [
        "Решение\n",
        "По результатам метрик и визуализаций, лучшим алгоритмом является GussianMixture"
      ],
      "metadata": {
        "id": "U8IFmig503Lz"
      }
    },
    {
      "cell_type": "code",
      "source": [
        "# Удаление ненужных атрибутов с кластерами\n",
        "df.drop(columns=['KMCLUSTS', 'KBCLUSTS'], axis=1, inplace=True)"
      ],
      "metadata": {
        "id": "JTtVV6cu06OR"
      },
      "execution_count": null,
      "outputs": []
    },
    {
      "cell_type": "markdown",
      "source": [
        "1.6 Подготовка отчета\n",
        "Тут отчет по пунктам сами напишите...\n",
        "Нужно указать что было под пунктами:\n",
        "\n",
        "1 -\n",
        "2 -\n",
        "3 -\n",
        "4 -\n",
        "И тд..."
      ],
      "metadata": {
        "id": "ijVEIFp91FAf"
      }
    },
    {
      "cell_type": "code",
      "source": [
        "# df.to_csv('output.csv', index=False, encoding='utf-8-sig') "
      ],
      "metadata": {
        "id": "hjz71fIa1IML"
      },
      "execution_count": null,
      "outputs": []
    }
  ]
}