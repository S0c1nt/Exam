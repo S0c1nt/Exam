{
  "nbformat": 4,
  "nbformat_minor": 0,
  "metadata": {
    "colab": {
      "provenance": [],
      "authorship_tag": "ABX9TyPUZ2O0hR15yBDC6QT+3oWN",
      "include_colab_link": true
    },
    "kernelspec": {
      "name": "python3",
      "display_name": "Python 3"
    },
    "language_info": {
      "name": "python"
    }
  },
  "cells": [
    {
      "cell_type": "markdown",
      "metadata": {
        "id": "view-in-github",
        "colab_type": "text"
      },
      "source": [
        "<a href=\"https://colab.research.google.com/github/S0c1nt/Exam/blob/main/%D0%9E%D0%BF%D1%82%D0%B8%D0%BC%D0%B8%D0%B7%D0%B0%D1%86%D0%B8%D1%8F_%D0%BC%D0%BE%D0%B4%D0%B5%D0%BB%D0%B8.ipynb\" target=\"_parent\"><img src=\"https://colab.research.google.com/assets/colab-badge.svg\" alt=\"Open In Colab\"/></a>"
      ]
    },
    {
      "cell_type": "markdown",
      "source": [
        "2.3 Оптимизация модели"
      ],
      "metadata": {
        "id": "eVFWJsjh3eqN"
      }
    },
    {
      "cell_type": "markdown",
      "source": [
        "Генерация новых данных"
      ],
      "metadata": {
        "id": "EwkQYFiq3jJj"
      }
    },
    {
      "cell_type": "code",
      "source": [
        "df.head()"
      ],
      "metadata": {
        "id": "8xTpy6dC3joE"
      },
      "execution_count": null,
      "outputs": []
    },
    {
      "cell_type": "markdown",
      "source": [
        "В данном случае можно воспользоваться уже созданным нами атрибутом INCOME_MAIN_AMT_USD"
      ],
      "metadata": {
        "id": "GKiKe0Ta3omV"
      }
    },
    {
      "cell_type": "code",
      "source": [
        "#обьявляю MinMaxScaler\n",
        "scaler = MinMaxScaler()\n",
        "#преобразую данные\n",
        "X = scaler.fit_transform(X)"
      ],
      "metadata": {
        "id": "_j_rDWgw3lxQ"
      },
      "execution_count": null,
      "outputs": []
    },
    {
      "cell_type": "code",
      "source": [
        "#Помещу их в переменную X\n",
        "X = df[[\"AGE\", \"EDUCATION_LEVEL\", \"REG_CODE\", \"GMCLUSTS\", 'INCOME_MAIN_AMT_USD']]\n",
        "y = df[\"GENDER\"]"
      ],
      "metadata": {
        "id": "U-q3_A4V3w2C"
      },
      "execution_count": null,
      "outputs": []
    },
    {
      "cell_type": "code",
      "source": [
        "#Разделение данных на обучающий и тестовый набор\n",
        "X_train, X_test, y_train, y_test = train_test_split(X, y, test_size=0.3, random_state=42, stratify=y)"
      ],
      "metadata": {
        "id": "BI0mFb2534aq"
      },
      "execution_count": null,
      "outputs": []
    },
    {
      "cell_type": "markdown",
      "source": [
        "Реализация моделей"
      ],
      "metadata": {
        "id": "iQxycLg135Oe"
      }
    },
    {
      "cell_type": "code",
      "source": [
        "#Объявление классификатор\n",
        "neigh2 = KNeighborsClassifier(n_neighbors=2, leaf_size=10, p=3, n_jobs=-1)\n",
        "#Обучение классификатора\n",
        "neigh2.fit(X_train, y_train)"
      ],
      "metadata": {
        "id": "lh2rq-Bn37UB"
      },
      "execution_count": null,
      "outputs": []
    },
    {
      "cell_type": "markdown",
      "source": [
        "Метрика"
      ],
      "metadata": {
        "id": "9sp1uOSx4ClL"
      }
    },
    {
      "cell_type": "code",
      "source": [
        "#Вывожу результаты метрик при помощи classification_report\n",
        "print(classification_report(y_test, neigh2.predict(X_test)))"
      ],
      "metadata": {
        "id": "-aqhTEPV4E68"
      },
      "execution_count": null,
      "outputs": []
    },
    {
      "cell_type": "markdown",
      "source": [
        "Модель стала хуже, так что для дальнейшего использования лучше будет оставить первую версию"
      ],
      "metadata": {
        "id": "tMGDt94G4IPC"
      }
    },
    {
      "cell_type": "markdown",
      "source": [
        "Сохранение лучшей модели"
      ],
      "metadata": {
        "id": "ghpvsOHD4Kvr"
      }
    },
    {
      "cell_type": "markdown",
      "source": [
        "Ниже представлен код сохранения модели"
      ],
      "metadata": {
        "id": "HPyuU2Vs4O19"
      }
    },
    {
      "cell_type": "code",
      "source": [
        "import pickle\n",
        "filename = 'finalized_model.sav'\n",
        "pickle.dump(neigh, open(filename, 'wb'))"
      ],
      "metadata": {
        "id": "PHAG7kha4PSH"
      },
      "execution_count": null,
      "outputs": []
    },
    {
      "cell_type": "markdown",
      "source": [
        "Так выглядит загрузка модели"
      ],
      "metadata": {
        "id": "opQH2byi4Tgu"
      }
    },
    {
      "cell_type": "code",
      "source": [
        "# load the model from disk\n",
        "#loaded_model = pickle.load(open(filename, 'rb'))"
      ],
      "metadata": {
        "id": "j0c2tyMh4T93"
      },
      "execution_count": null,
      "outputs": []
    },
    {
      "cell_type": "markdown",
      "source": [
        "Отчет"
      ],
      "metadata": {
        "id": "tbyRZIef4YXq"
      }
    },
    {
      "cell_type": "markdown",
      "source": [
        "Тут отчет по пунктам сами напишите...\n",
        "Нужно указать что было под пунктами:\n",
        "\n",
        "1 -\n",
        "2 -\n",
        "3 -\n",
        "4 -\n",
        "И тд.."
      ],
      "metadata": {
        "id": "Wm5W-6Pu4ZS-"
      }
    },
    {
      "cell_type": "code",
      "source": [
        "# df.to_csv('output2.csv', index=False, encoding='utf-8-sig')"
      ],
      "metadata": {
        "id": "5_hSdunR4a6h"
      },
      "execution_count": null,
      "outputs": []
    }
  ]
}