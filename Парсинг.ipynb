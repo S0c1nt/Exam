{
  "nbformat": 4,
  "nbformat_minor": 0,
  "metadata": {
    "colab": {
      "provenance": [],
      "authorship_tag": "ABX9TyOEg0zic4X/krvtV/ypa7ZY",
      "include_colab_link": true
    },
    "kernelspec": {
      "name": "python3",
      "display_name": "Python 3"
    },
    "language_info": {
      "name": "python"
    }
  },
  "cells": [
    {
      "cell_type": "markdown",
      "metadata": {
        "id": "view-in-github",
        "colab_type": "text"
      },
      "source": [
        "<a href=\"https://colab.research.google.com/github/S0c1nt/Exam/blob/main/%D0%9F%D0%B0%D1%80%D1%81%D0%B8%D0%BD%D0%B3.ipynb\" target=\"_parent\"><img src=\"https://colab.research.google.com/assets/colab-badge.svg\" alt=\"Open In Colab\"/></a>"
      ]
    },
    {
      "cell_type": "code",
      "execution_count": 1,
      "metadata": {
        "id": "0q6N3asTxhEe"
      },
      "outputs": [],
      "source": [
        "import sklearn\n",
        "import pandas as pd\n",
        "import seaborn as sns\n",
        "import matplotlib.pyplot as plt\n",
        "from sklearn.decomposition import PCA\n",
        "from sklearn.preprocessing import MinMaxScaler\n",
        "\n",
        "# Алгоритмы кластеризации\n",
        "from sklearn.cluster import KMeans\n",
        "from sklearn.cluster import MiniBatchKMeans\n",
        "from sklearn.mixture import GaussianMixture\n",
        "\n",
        "\n",
        "%matplotlib inline"
      ]
    },
    {
      "cell_type": "code",
      "source": [
        "df1 = pd.read_csv('data/3 вар/Data/train_2.csv', delimiter=';', low_memory=False)\n",
        "df1"
      ],
      "metadata": {
        "id": "L7fXi3wJxm_l"
      },
      "execution_count": null,
      "outputs": []
    },
    {
      "cell_type": "code",
      "source": [
        "df2 = pd.read_csv('data/3 вар/Data/train_1.csv', delimiter=';', low_memory=False)\n",
        "df2"
      ],
      "metadata": {
        "id": "MXytu7PjxqzE"
      },
      "execution_count": null,
      "outputs": []
    },
    {
      "cell_type": "code",
      "source": [
        "df[\"INCOME_MAIN_AMT\"] = df[\"INCOME_MAIN_AMT\"].astype(str).str.replace(\",\", \".\").astype(float)"
      ],
      "metadata": {
        "id": "rIrSHLLTxuZb"
      },
      "execution_count": null,
      "outputs": []
    },
    {
      "cell_type": "code",
      "source": [
        "plt.figure(figsize=(23, 15))\n",
        "sns.heatmap(df.corr(), annot = True, vmin=-1, vmax=1,cmap= 'coolwarm')"
      ],
      "metadata": {
        "id": "WVSDtmB7xx16"
      },
      "execution_count": null,
      "outputs": []
    },
    {
      "cell_type": "markdown",
      "source": [
        "**На корреляционной карте выше видно, что довольно сильно коррелируют между собой атрибуты:\n",
        "MATIRIAL_STATUS и EDUCATION_LEVEL\n",
        "EDUCATION_LEVEL и DEPENDANT_CNT\n",
        "MM_W_CARD и MM_IN_BANK\n",
        "ID и MM_IN_BANK**"
      ],
      "metadata": {
        "id": "74ENEszjx93n"
      }
    },
    {
      "cell_type": "code",
      "source": [
        "df = df[['AGE', 'GENDER', 'EDUCATION_LEVEL', 'MARITAL_STATUS', 'INCOME_MAIN_AMT', 'REG_CODE']]\n",
        "df"
      ],
      "metadata": {
        "id": "6mC05sF0x4La"
      },
      "execution_count": null,
      "outputs": []
    },
    {
      "cell_type": "markdown",
      "source": [],
      "metadata": {
        "id": "NbbUpB7jxkT-"
      }
    }
  ]
}