{
  "nbformat": 4,
  "nbformat_minor": 0,
  "metadata": {
    "colab": {
      "provenance": [],
      "authorship_tag": "ABX9TyPnoU//vT37fNkwYQsiGULC",
      "include_colab_link": true
    },
    "kernelspec": {
      "name": "python3",
      "display_name": "Python 3"
    },
    "language_info": {
      "name": "python"
    }
  },
  "cells": [
    {
      "cell_type": "markdown",
      "metadata": {
        "id": "view-in-github",
        "colab_type": "text"
      },
      "source": [
        "<a href=\"https://colab.research.google.com/github/S0c1nt/Exam/blob/main/%D0%A0%D0%B0%D0%B7%D0%B1%D0%B8%D0%B5%D0%BD%D0%B8%D0%B5_%D0%B2%D1%8B%D0%B1%D0%BE%D1%80%D0%BA%D0%B8.ipynb\" target=\"_parent\"><img src=\"https://colab.research.google.com/assets/colab-badge.svg\" alt=\"Open In Colab\"/></a>"
      ]
    },
    {
      "cell_type": "code",
      "execution_count": null,
      "metadata": {
        "id": "hzp0bgyH2FAj"
      },
      "outputs": [],
      "source": [
        "df.head()"
      ]
    },
    {
      "cell_type": "markdown",
      "source": [
        "Система рекомендаций будет определять категорию принадлежности, то есть порекомендовать пользователю товар для мужчин или для женщин"
      ],
      "metadata": {
        "id": "bmQ3zU1L2JLC"
      }
    },
    {
      "cell_type": "markdown",
      "source": [
        "MinMaxScaler\n",
        "Преобразование характеристик путем масштабирования каждой характеристики в заданном диапазоне. Этот оценщик масштабирует и переводит каждый признак в отдельности таким образом,чтобы он находился в заданном диапазоне на обучающем множестве,например,между нулем и единицей."
      ],
      "metadata": {
        "id": "qOTbl9352LvD"
      }
    },
    {
      "cell_type": "code",
      "source": [
        "#обьявляю MinMaxScaler\n",
        "scaler = MinMaxScaler()\n",
        "#преобразую данные\n",
        "X = scaler.fit_transform(X)"
      ],
      "metadata": {
        "id": "DpuhtOdp2Jnv"
      },
      "execution_count": null,
      "outputs": []
    },
    {
      "cell_type": "code",
      "source": [
        "#Помещу их в переменную X\n",
        "X = df[[\"AGE\", \"EDUCATION_LEVEL\", \"REG_CODE\", \"GMCLUSTS\"]]\n",
        "y = df[\"GENDER\"]"
      ],
      "metadata": {
        "id": "sXj6LEbr2PcH"
      },
      "execution_count": null,
      "outputs": []
    },
    {
      "cell_type": "code",
      "source": [
        "#Разделение данных на обучающий и тестовый набор\n",
        "X_train, X_test, y_train, y_test = train_test_split(X, y, test_size=0.3, random_state=42, stratify=y)"
      ],
      "metadata": {
        "id": "nP5e1hDN2SAV"
      },
      "execution_count": null,
      "outputs": []
    },
    {
      "cell_type": "markdown",
      "source": [
        "Реализация моделей"
      ],
      "metadata": {
        "id": "sTnMfSx42Wyx"
      }
    },
    {
      "cell_type": "markdown",
      "source": [
        "KNN"
      ],
      "metadata": {
        "id": "0DpnG0zo2ZXU"
      }
    },
    {
      "cell_type": "code",
      "source": [
        "#Объявление классификатор\n",
        "neigh = KNeighborsClassifier()\n",
        "#Обучение классификатора\n",
        "neigh.fit(X_train, y_train)"
      ],
      "metadata": {
        "id": "Va9prwHV2XQl"
      },
      "execution_count": null,
      "outputs": []
    },
    {
      "cell_type": "markdown",
      "source": [
        "GaussianNB"
      ],
      "metadata": {
        "id": "HOi2UCoY2eSj"
      }
    },
    {
      "cell_type": "code",
      "source": [
        "#Объявление классификатор\n",
        "gnb = GaussianNB()\n",
        "#Обучение классификатора\n",
        "gnb.fit(X_train, y_train)\n",
        "GaussianNB()"
      ],
      "metadata": {
        "id": "lCaogkH72gaD"
      },
      "execution_count": null,
      "outputs": []
    },
    {
      "cell_type": "markdown",
      "source": [
        "LogisticRegression"
      ],
      "metadata": {
        "id": "ppJyUKja2i2c"
      }
    },
    {
      "cell_type": "code",
      "source": [
        "#Объявление классификатор\n",
        "clf = LogisticRegression()\n",
        "#Обучение классификатора\n",
        "clf.fit(X_train, y_train)"
      ],
      "metadata": {
        "id": "Lv0JpYzG2l2N"
      },
      "execution_count": null,
      "outputs": []
    },
    {
      "cell_type": "markdown",
      "source": [
        "Метрики\n",
        "Теперь посмотрю на результаты метрик, я буду рассматривать метрики - f1 и accuracy sore, f так же f1 по macro avg"
      ],
      "metadata": {
        "id": "e-S-S4zF2sMf"
      }
    },
    {
      "cell_type": "markdown",
      "source": [
        "KNN"
      ],
      "metadata": {
        "id": "6rne0MZZ2umw"
      }
    },
    {
      "cell_type": "code",
      "source": [
        "#Вывожу результаты метрик при помощи classification_report\n",
        "print(classification_report(y_test, neigh.predict(X_test)))"
      ],
      "metadata": {
        "id": "rvaOnXsA26pQ"
      },
      "execution_count": null,
      "outputs": []
    },
    {
      "cell_type": "markdown",
      "source": [
        "GaussianNB"
      ],
      "metadata": {
        "id": "_SY-Cz6E293A"
      }
    },
    {
      "cell_type": "code",
      "source": [
        "#Вывожу результаты метрик при помощи classification_report\n",
        "print(classification_report(y_test, gnb.predict(X_test)))"
      ],
      "metadata": {
        "id": "TyEe_qX93BVd"
      },
      "execution_count": null,
      "outputs": []
    },
    {
      "cell_type": "markdown",
      "source": [
        "LogisticRegression"
      ],
      "metadata": {
        "id": "ZTWomdEm3AdX"
      }
    },
    {
      "cell_type": "code",
      "source": [
        "#Вывожу результаты метрик при помощи classification_report\n",
        "print(classification_report(y_test, clf.predict(X_test)))"
      ],
      "metadata": {
        "id": "yrqWAnaC3Esw"
      },
      "execution_count": null,
      "outputs": []
    },
    {
      "cell_type": "markdown",
      "source": [
        "Решение\n",
        "По итогам метрик, остановлюсь на алгоритме KNN, так как он имеет самые высокие показатели, по f1 accuracy показал 0.99, и f1 macro avg 0.99. В то время как остальные алгоритмы показали 1, что может оказаться переобучением."
      ],
      "metadata": {
        "id": "QMDWxutr3Jpr"
      }
    }
  ]
}