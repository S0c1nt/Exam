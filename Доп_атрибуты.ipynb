{
  "nbformat": 4,
  "nbformat_minor": 0,
  "metadata": {
    "colab": {
      "provenance": [],
      "authorship_tag": "ABX9TyMtoCcnH52CMQ/aiAVobziV",
      "include_colab_link": true
    },
    "kernelspec": {
      "name": "python3",
      "display_name": "Python 3"
    },
    "language_info": {
      "name": "python"
    }
  },
  "cells": [
    {
      "cell_type": "markdown",
      "metadata": {
        "id": "view-in-github",
        "colab_type": "text"
      },
      "source": [
        "<a href=\"https://colab.research.google.com/github/S0c1nt/Exam/blob/main/%D0%94%D0%BE%D0%BF_%D0%B0%D1%82%D1%80%D0%B8%D0%B1%D1%83%D1%82%D1%8B.ipynb\" target=\"_parent\"><img src=\"https://colab.research.google.com/assets/colab-badge.svg\" alt=\"Open In Colab\"/></a>"
      ]
    },
    {
      "cell_type": "code",
      "execution_count": null,
      "metadata": {
        "id": "CmF2VePny979"
      },
      "outputs": [],
      "source": [
        "df['INCOME_MAIN_AMT_USD'] = df['INCOME_MAIN_AMT'].apply(lambda x: x / 80)"
      ]
    },
    {
      "cell_type": "code",
      "source": [
        "df"
      ],
      "metadata": {
        "id": "o12EBmj5zDNY"
      },
      "execution_count": null,
      "outputs": []
    },
    {
      "cell_type": "code",
      "source": [
        "df3 = df2['LOCATION_NAME'].str.split('\\\\', 4 , expand= True )\n",
        "df3.columns = ['shop', 'street', 'city', 'index']\n",
        "df3"
      ],
      "metadata": {
        "id": "NeEiQWGzzFFi"
      },
      "execution_count": null,
      "outputs": []
    },
    {
      "cell_type": "code",
      "source": [
        "df6 = pd.concat([df2, df3], axis=1)\n",
        "df6 = df6.drop(['shop', 'street', 'LOCATION_NAME'], axis=1)\n",
        "df6"
      ],
      "metadata": {
        "id": "RJziXQFWzH4t"
      },
      "execution_count": null,
      "outputs": []
    },
    {
      "cell_type": "code",
      "source": [
        "df6.info()"
      ],
      "metadata": {
        "id": "SDOm7WhizLxb"
      },
      "execution_count": null,
      "outputs": []
    },
    {
      "cell_type": "code",
      "source": [
        "df"
      ],
      "metadata": {
        "id": "p3WHA2rOzOCV"
      },
      "execution_count": null,
      "outputs": []
    },
    {
      "cell_type": "code",
      "source": [],
      "metadata": {
        "id": "M9E50lB8zOJo"
      },
      "execution_count": null,
      "outputs": []
    }
  ]
}