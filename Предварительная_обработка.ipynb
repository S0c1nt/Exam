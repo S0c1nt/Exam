{
  "nbformat": 4,
  "nbformat_minor": 0,
  "metadata": {
    "colab": {
      "provenance": [],
      "authorship_tag": "ABX9TyOfERFbpm4GO2Wp6RzudS1R",
      "include_colab_link": true
    },
    "kernelspec": {
      "name": "python3",
      "display_name": "Python 3"
    },
    "language_info": {
      "name": "python"
    }
  },
  "cells": [
    {
      "cell_type": "markdown",
      "metadata": {
        "id": "view-in-github",
        "colab_type": "text"
      },
      "source": [
        "<a href=\"https://colab.research.google.com/github/S0c1nt/Exam/blob/main/%D0%9F%D1%80%D0%B5%D0%B4%D0%B2%D0%B0%D1%80%D0%B8%D1%82%D0%B5%D0%BB%D1%8C%D0%BD%D0%B0%D1%8F_%D0%BE%D0%B1%D1%80%D0%B0%D0%B1%D0%BE%D1%82%D0%BA%D0%B0.ipynb\" target=\"_parent\"><img src=\"https://colab.research.google.com/assets/colab-badge.svg\" alt=\"Open In Colab\"/></a>"
      ]
    },
    {
      "cell_type": "code",
      "execution_count": null,
      "metadata": {
        "id": "3XPLDOOhySIh"
      },
      "outputs": [],
      "source": [
        "df.dropna(inplace=True)\n",
        "df.reset_index(drop=True, inplace=True)"
      ]
    },
    {
      "cell_type": "code",
      "source": [
        "df"
      ],
      "metadata": {
        "id": "QBLcw9TDyXtB"
      },
      "execution_count": null,
      "outputs": []
    },
    {
      "cell_type": "code",
      "source": [
        "#Вывод коробчатых диаграм в цикле только по числовым атриубтам\n",
        "for col in df.select_dtypes(exclude=[\"object\", \"datetime64[ns]\"]).columns:\n",
        "    #построение фигуры\n",
        "    plt.figure()\n",
        "    #Заголовк\n",
        "    plt.title(col)\n",
        "    #Вывод диаграммы\n",
        "    plt.boxplot(df[col])\n",
        "    plt.show()"
      ],
      "metadata": {
        "id": "ayHKkr7Eyapv"
      },
      "execution_count": null,
      "outputs": []
    },
    {
      "cell_type": "code",
      "source": [
        "#Вывод коробчатых диаграм в цикле только по числовым атриубтам\n",
        "for col in df.select_dtypes(exclude=[\"object\", \"datetime64[ns]\"]).columns:\n",
        "    #построение фигуры\n",
        "    sns.distplot(df[col].dropna())\n",
        "    plt.show()"
      ],
      "metadata": {
        "id": "2qAbVZ04yfCC"
      },
      "execution_count": null,
      "outputs": []
    },
    {
      "cell_type": "code",
      "source": [
        "#Вывод коробчатых диаграм в цикле только по числовым атриубтам\n",
        "for col in df.select_dtypes(exclude=[\"object\", \"datetime64[ns]\"]).columns:\n",
        "    Q1 = df[col].quantile(0.25)\n",
        "    Q3 = df[col].quantile(0.75)\n",
        "    IQR = Q3 - Q1    #IQR is interquartile range. \n",
        "\n",
        "    filter = (df[col] >= Q1 - 1.5 * IQR) & (df[col] <= Q3 + 1.5 *IQR)\n",
        "    df = df.loc[filter]"
      ],
      "metadata": {
        "id": "4-R8JM98yfkH"
      },
      "execution_count": null,
      "outputs": []
    },
    {
      "cell_type": "code",
      "source": [
        "#Вывод коробчатых диаграм в цикле только по числовым атриубтам\n",
        "for col in df.select_dtypes(exclude=[\"object\", \"datetime64[ns]\"]).columns:\n",
        "    #построение фигуры\n",
        "    plt.figure()\n",
        "    #Заголовк\n",
        "    plt.title(col)\n",
        "    #Вывод диаграммы\n",
        "    plt.boxplot(df[col])\n",
        "    plt.show()"
      ],
      "metadata": {
        "id": "yGdcS4f1yjNR"
      },
      "execution_count": null,
      "outputs": []
    },
    {
      "cell_type": "markdown",
      "source": [
        "У атрибута 'INCOME_MAIN_AMT' можно увидеть небольшое отклонение от того что было, но это уже приемлимо"
      ],
      "metadata": {
        "id": "3FGx6QPQyr44"
      }
    }
  ]
}