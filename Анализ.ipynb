{
  "nbformat": 4,
  "nbformat_minor": 0,
  "metadata": {
    "colab": {
      "provenance": [],
      "authorship_tag": "ABX9TyMkqSR6zeSLITFs1fJ3qiew",
      "include_colab_link": true
    },
    "kernelspec": {
      "name": "python3",
      "display_name": "Python 3"
    },
    "language_info": {
      "name": "python"
    }
  },
  "cells": [
    {
      "cell_type": "markdown",
      "metadata": {
        "id": "view-in-github",
        "colab_type": "text"
      },
      "source": [
        "<a href=\"https://colab.research.google.com/github/S0c1nt/Exam/blob/main/%D0%90%D0%BD%D0%B0%D0%BB%D0%B8%D0%B7.ipynb\" target=\"_parent\"><img src=\"https://colab.research.google.com/assets/colab-badge.svg\" alt=\"Open In Colab\"/></a>"
      ]
    },
    {
      "cell_type": "code",
      "execution_count": null,
      "metadata": {
        "id": "CaVIujRT1kPP"
      },
      "outputs": [],
      "source": [
        "import sklearn\n",
        "import numpy as np\n",
        "import pandas as pd\n",
        "import seaborn as sns\n",
        "import matplotlib.pyplot as plt\n",
        "from sklearn.preprocessing import MinMaxScaler\n",
        "from sklearn.metrics import classification_report\n",
        "from sklearn.model_selection import train_test_split\n",
        "\n",
        "# Алгоритмы классификации\n",
        "from sklearn.naive_bayes import GaussianNB\n",
        "from sklearn.neighbors import KNeighborsClassifier\n",
        "from sklearn.linear_model import LogisticRegression\n",
        "\n",
        "# Игнорирование ошибок будущих версий\n",
        "from warnings import simplefilter\n",
        "simplefilter(action='ignore', category=FutureWarning)"
      ]
    },
    {
      "cell_type": "code",
      "source": [
        "# df = pd.read_csv('output.csv')"
      ],
      "metadata": {
        "id": "BFNWWffJ1k87"
      },
      "execution_count": null,
      "outputs": []
    },
    {
      "cell_type": "code",
      "source": [
        "df.head()"
      ],
      "metadata": {
        "id": "W27NBHN61qn_"
      },
      "execution_count": null,
      "outputs": []
    },
    {
      "cell_type": "code",
      "source": [
        "#Лист с признаками которые не будут учитываться при визуализации (Не категориальные)\n",
        "skip = ['AGE', 'INCOME_MAIN_AMT', 'INCOME_MAIN_AMT_USD']\n",
        "#Не категориальные признаки\n",
        "for i in skip:\n",
        "    if type(df[i].iloc[2]) == np.int64 or type(df[i].iloc[2]) == np.float64:\n",
        "        sns.displot(df, x=i, kind=\"kde\", fill=True)"
      ],
      "metadata": {
        "id": "pvHhIblV1tPq"
      },
      "execution_count": null,
      "outputs": []
    },
    {
      "cell_type": "code",
      "source": [
        "#Категориальные признаки\n",
        "for i in df.columns:\n",
        "    if i not in skip and i != 'REG_CODE':\n",
        "        sns.catplot(x=i, kind='count', palette='ch:25', height=2, aspect=5, data=df)\n",
        "        plt.show()"
      ],
      "metadata": {
        "id": "IMlr6Fvs1wje"
      },
      "execution_count": null,
      "outputs": []
    },
    {
      "cell_type": "code",
      "source": [
        "\n",
        "REG_CODE плохо визуализировался, так что его можно вывести отдельно"
      ],
      "metadata": {
        "id": "lKKqYIqj1zYp"
      },
      "execution_count": null,
      "outputs": []
    },
    {
      "cell_type": "code",
      "source": [
        "sns.catplot(x='REG_CODE', kind='count', palette='ch:25', height=4, aspect=5, data=df)\n",
        "plt.xticks(rotation=90)\n",
        "plt.show()"
      ],
      "metadata": {
        "id": "A1FuaqIF12Xm"
      },
      "execution_count": null,
      "outputs": []
    },
    {
      "cell_type": "code",
      "source": [],
      "metadata": {
        "id": "1l7SrnTf1410"
      },
      "execution_count": null,
      "outputs": []
    }
  ]
}